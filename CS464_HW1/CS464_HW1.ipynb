{
  "cells": [
    {
      "cell_type": "code",
      "execution_count": 3,
      "metadata": {
        "colab": {
          "base_uri": "https://localhost:8080/"
        },
        "id": "1yRmRbOWahn_",
        "outputId": "b478e667-166b-48e7-ab72-2d96e753ec74"
      },
      "outputs": [
        {
          "output_type": "stream",
          "name": "stdout",
          "text": [
            "Archive:  CS464_Fall2022_HW1_data (1).zip\n",
            "replace dataset/bbcsports_val.csv? [y]es, [n]o, [A]ll, [N]one, [r]ename: n\n",
            "replace dataset/bbcsports_train.csv? [y]es, [n]o, [A]ll, [N]one, [r]ename: n\n"
          ]
        }
      ],
      "source": [
        "import pandas as pd\n",
        "import numpy as np\n",
        "!unzip CS464_Fall2022_HW1_data\\ \\(1\\).zip"
      ]
    },
    {
      "cell_type": "code",
      "execution_count": 4,
      "metadata": {
        "id": "gjep9wv6asT3",
        "colab": {
          "base_uri": "https://localhost:8080/"
        },
        "outputId": "63afd99a-2971-454b-c3e5-053fd8739a9a"
      },
      "outputs": [
        {
          "output_type": "execute_result",
          "data": {
            "text/plain": [
              "(552, 4614)"
            ]
          },
          "metadata": {},
          "execution_count": 4
        }
      ],
      "source": [
        "train_data = pd.read_csv('dataset/bbcsports_train.csv')\n",
        "val_data = pd.read_csv('dataset/bbcsports_val.csv')\n",
        "#train_data,val_data\n",
        "train_total_rows = train_data.shape[0]\n",
        "val_total_rows = val_data.shape[0]\n",
        "train_total_cols = len(train_data.loc[0])\n",
        "val_total_cols = len(val_data.loc[0])\n",
        "train_total_rows,train_total_cols"
      ]
    },
    {
      "cell_type": "code",
      "source": [
        "# Question 2.1\n",
        "import matplotlib.pyplot as plt\n",
        "import seaborn as sns\n",
        "class_name_list = [\"Athletics\", \"Cricket\", \"Football\", \"Rugby\", \"Tennis\"]\n",
        "\n",
        "def get_bar_plt(data,class_names:class_name_list,name):\n",
        "  plt.clf()\n",
        "  class_dist_list = []\n",
        "  for i in range(0,5):\n",
        "    df = (data.loc[train_data['class_label'] == i])\n",
        "    class_dist_list.append(df.shape[0])\n",
        "  plt.bar(class_name_list,class_dist_list)\n",
        "  plt.title(\"{}\".format(name))\n",
        "  return plt.show(),class_dist_list\n",
        "\n",
        "#get_bar_plt(train_data,class_name_list,\"training_set\")[1]\n",
        "get_bar_plt(val_data,class_name_list,\"validation_set\")[1]"
      ],
      "metadata": {
        "colab": {
          "base_uri": "https://localhost:8080/",
          "height": 298
        },
        "id": "nsqStVsOJWM3",
        "outputId": "757810f4-ca90-4002-a107-7143c850e445"
      },
      "execution_count": 5,
      "outputs": [
        {
          "output_type": "display_data",
          "data": {
            "text/plain": [
              "<Figure size 432x288 with 1 Axes>"
            ],
            "image/png": "[encoded data removed]"
          },
          "metadata": {
            "needs_background": "light"
          }
        },
        {
          "output_type": "execute_result",
          "data": {
            "text/plain": [
              "[33, 32, 67, 32, 21]"
            ]
          },
          "metadata": {},
          "execution_count": 5
        }
      ]
    },
    {
      "cell_type": "code",
      "execution_count": 58,
      "metadata": {
        "id": "l8Tijp9cfLym",
        "colab": {
          "base_uri": "https://localhost:8080/"
        },
        "outputId": "ee1ec4e2-51fc-429c-f71f-23e97b3803af"
      },
      "outputs": [
        {
          "output_type": "execute_result",
          "data": {
            "text/plain": [
              "[0.13949275362318841,\n",
              " 0.15579710144927536,\n",
              " 0.358695652173913,\n",
              " 0.20652173913043478,\n",
              " 0.13949275362318841]"
            ]
          },
          "metadata": {},
          "execution_count": 58
        }
      ],
      "source": [
        "# Calculating priors P(Y = y_k)\n",
        "def get_prob_priors(data):\n",
        "  prob_prior_list = []\n",
        "  # since we have 5 classes we will find the values in the class label column that equals to these class numbers\n",
        "  for i in range(0,5): \n",
        "    prob_prior_list.append(data.loc[data['class_label'] == i].shape[0]/data.shape[0])\n",
        "  return prob_prior_list\n",
        "get_prob_priors(train_data)"
      ]
    },
    {
      "cell_type": "code",
      "source": [
        "def get_sum_row_col(data):\n",
        "  data['sum_of_rows'] = data.iloc[:,0:data.shape[1] -2].sum(axis=1)\n",
        "  return data"
      ],
      "metadata": {
        "id": "UEPCs6XxTR1V"
      },
      "execution_count": 40,
      "outputs": []
    },
    {
      "cell_type": "code",
      "source": [
        "# Getting MLE estimate without smoothing\n",
        "def get_mle_prob_list(data):\n",
        "  get_sum_row_col(data)\n",
        "  #print(data.loc[1,'sum_of_rows'])\n",
        "  class_label_grouped_dataset = data.groupby('class_label').sum()\n",
        "  clgd = class_label_grouped_dataset\n",
        "  clgd.loc[0,\"sum_of_rows\"]\n",
        "  clgd.iloc[0,0]/clgd.loc[0,\"sum_of_rows\"] # prob of the first one we need for all\n",
        "  mle_prob_list = np.ones((5,train_total_cols-2)) #5,4613 for 5 classes and 4613 number of words\n",
        "  for i in range(0,clgd.shape[0]): #rows\n",
        "    for j in range(0,clgd.shape[1]-2): #cols\n",
        "      mle_prob_list[i][j] = np.log2(clgd.iloc[i,j] / clgd.loc[i,\"sum_of_rows\"])\n",
        "  mle_prob_list = np.nan_to_num(mle_prob_list)\n",
        "  return mle_prob_list\n",
        "get_mle_prob_list(train_data)"
      ],
      "metadata": {
        "colab": {
          "base_uri": "https://localhost:8080/"
        },
        "id": "X4FN9GvWAPHh",
        "outputId": "5ff6153a-be87-4a28-84f7-666e86a8cb3f"
      },
      "execution_count": 336,
      "outputs": [
        {
          "output_type": "stream",
          "name": "stderr",
          "text": [
            "/usr/local/lib/python3.7/dist-packages/ipykernel_launcher.py:12: RuntimeWarning: divide by zero encountered in log2\n",
            "  if sys.path[0] == '':\n"
          ]
        },
        {
          "output_type": "execute_result",
          "data": {
            "text/plain": [
              "array([[-1.01764225e+001, -1.34983506e+001, -8.28889724e+000, ...,\n",
              "        -1.79769313e+308, -1.79769313e+308, -1.79769313e+308],\n",
              "       [-1.79769313e+308, -1.20683584e+001, -6.92880709e+000, ...,\n",
              "        -1.79769313e+308, -1.79769313e+308, -1.79769313e+308],\n",
              "       [-1.79769313e+308, -1.39445748e+001, -8.01383747e+000, ...,\n",
              "        -1.79769313e+308, -1.79769313e+308, -1.79769313e+308],\n",
              "       [-1.79769313e+308, -1.79769313e+308, -7.38697500e+000, ...,\n",
              "        -1.79769313e+308, -1.79769313e+308, -1.79769313e+308],\n",
              "       [-1.79769313e+308, -1.79769313e+308, -6.72885419e+000, ...,\n",
              "        -1.79769313e+308, -1.18163170e+001, -1.18163170e+001]])"
            ]
          },
          "metadata": {},
          "execution_count": 336
        }
      ]
    },
    {
      "cell_type": "code",
      "source": [
        "#getting MLE estimate with smoothing\n",
        "def get_mle_prob_with_smoothing(data,alpha = 1):\n",
        "  V_size = 4612 # 4612\n",
        "  #get_sum_row_col(data)\n",
        "  class_label_grouped_dataset = data.groupby('class_label').sum()\n",
        "  clgd = class_label_grouped_dataset\n",
        "  clgd.loc[0,\"sum_of_rows\"]\n",
        "  clgd.iloc[0,0]/clgd.loc[0,\"sum_of_rows\"] # prob of the first one\n",
        "  mle_prob_list = np.ones((5,train_total_cols-2)) #5,4613 for 5 classes and 4613 number of words\n",
        "  for i in range(0,clgd.shape[0]): #rows\n",
        "    for j in range(0,clgd.shape[1]-2): #cols\n",
        "      mle_prob_list[i][j] = np.log2((clgd.iloc[i,j]+ alpha) / ((clgd.loc[i,\"sum_of_rows\"]) + alpha*V_size))\n",
        "  mle_prob_list = np.nan_to_num(mle_prob_list)\n",
        "  return mle_prob_list\n",
        "get_mle_prob_with_smoothing(train_data)"
      ],
      "metadata": {
        "colab": {
          "base_uri": "https://localhost:8080/"
        },
        "id": "22C9ExVuWoAO",
        "outputId": "db48346b-13e4-420a-bded-a88be40b6e5a"
      },
      "execution_count": 303,
      "outputs": [
        {
          "output_type": "execute_result",
          "data": {
            "text/plain": [
              "array([[-10.52284899, -12.9822806 ,  -8.73435309, ..., -13.9822806 ,\n",
              "        -13.9822806 , -13.9822806 ],\n",
              "       [-14.41144478, -12.08951669,  -7.26169766, ..., -14.41144478,\n",
              "        -14.41144478, -14.41144478],\n",
              "       [-15.14150847, -13.55654597,  -8.19899396, ..., -15.14150847,\n",
              "        -15.14150847, -15.14150847],\n",
              "       [-14.63066529, -14.63066529,  -7.66488101, ..., -14.63066529,\n",
              "        -14.63066529, -14.63066529],\n",
              "       [-13.91354394, -13.91354394,  -7.22704341, ..., -13.91354394,\n",
              "        -11.91354394, -11.91354394]])"
            ]
          },
          "metadata": {},
          "execution_count": 303
        }
      ]
    },
    {
      "cell_type": "markdown",
      "source": [
        "### YOU CAN UNCOMMENT MLE_PROB_LIST command to change the results whether have smoothing or not"
      ],
      "metadata": {
        "id": "VhSyu34IpzHX"
      }
    },
    {
      "cell_type": "code",
      "source": [
        "def get_prediction():\n",
        "  class_0_prediction = np.ones((185,4612))\n",
        "  class_1_prediction = np.ones((185,4612))\n",
        "  class_2_prediction = np.ones((185,4612))\n",
        "  class_3_prediction = np.ones((185,4612))\n",
        "  class_4_prediction = np.ones((185,4612))\n",
        "\n",
        "  mle_prob_list = get_mle_prob_list(train_data)\n",
        "  #mle_prob_list = get_mle_prob_with_smoothing(train_data)\n",
        "  \n",
        "  prob_prior_list = get_prob_priors(train_data)\n",
        "\n",
        "  prediction_array_0 = np.ones((1,185))\n",
        "  prediction_array_1 = np.ones((1,185))\n",
        "  prediction_array_2 = np.ones((1,185))\n",
        "  prediction_array_3 = np.ones((1,185))\n",
        "  prediction_array_4 = np.ones((1,185))\n",
        "\n",
        "  count0 = 0\n",
        "  count1 = 0\n",
        "  count2 = 0\n",
        "  count3 = 0\n",
        "  count4 = 0\n",
        "\n",
        "  for i in range(0,class_0_prediction.shape[0]):\n",
        "    for j in range(0,class_0_prediction.shape[1]):\n",
        "      class_0_prediction[i][j] = val_data.iloc[i,j] * mle_prob_list[0][j]\n",
        "      count0 += class_0_prediction[i][j]\n",
        "    count0 = count0 + prob_prior_list[0]\n",
        "    prediction_array_0[0][i] = count0\n",
        "    count0 = 0\n",
        "  for i in range(0,class_0_prediction.shape[0]):\n",
        "    for j in range(0,class_0_prediction.shape[1]):\n",
        "      class_1_prediction[i][j] = val_data.iloc[i,j] * mle_prob_list[1][j]\n",
        "      count1 += class_1_prediction[i][j]\n",
        "    count1 = count1 + prob_prior_list[1]\n",
        "    prediction_array_1[0][i] = count1\n",
        "    count1 = 0\n",
        "  for i in range(0,class_0_prediction.shape[0]):\n",
        "    for j in range(0,class_0_prediction.shape[1]):\n",
        "      class_2_prediction[i][j] = val_data.iloc[i,j] * mle_prob_list[2][j]\n",
        "      count2 += class_2_prediction[i][j]\n",
        "    count2 = count2 + prob_prior_list[2]\n",
        "    prediction_array_2[0][i] = count2\n",
        "    count2 = 0\n",
        "  for i in range(0,class_0_prediction.shape[0]):\n",
        "    for j in range(0,class_0_prediction.shape[1]):\n",
        "      class_3_prediction[i][j] = val_data.iloc[i,j] * mle_prob_list[3][j]\n",
        "      count3 += class_3_prediction[i][j]\n",
        "    count3 = count3 + prob_prior_list[3]\n",
        "    prediction_array_3[0][i] = count3\n",
        "    count3 = 0\n",
        "  for i in range(0,class_0_prediction.shape[0]):\n",
        "    for j in range(0,class_0_prediction.shape[1]):\n",
        "      class_4_prediction[i][j] = val_data.iloc[i,j] * mle_prob_list[4][j]\n",
        "      count4 += class_4_prediction[i][j]\n",
        "    count4 = count4 + prob_prior_list[4]\n",
        "    prediction_array_4[0][i] = count4\n",
        "    count4 = 0\n",
        "  prediction = np.ones((1,185))\n",
        "  comparison_array = np.ones((1,5))\n",
        "  index = 0\n",
        "  for i in range(0,prediction_array_0.shape[1]):\n",
        "    comparison_array[0][0] = prediction_array_0[0][i]\n",
        "    comparison_array[0][1] = prediction_array_1[0][i]\n",
        "    comparison_array[0][2] = prediction_array_2[0][i]\n",
        "    comparison_array[0][3] = prediction_array_3[0][i]\n",
        "    comparison_array[0][4] = prediction_array_4[0][i]\n",
        "    max = np.max(comparison_array)\n",
        "    #print(max)\n",
        "    index = np.where(comparison_array == max)\n",
        "    #print(index)\n",
        "    prediction[0][i] = index[1][0]\n",
        "    max = 0\n",
        "  #df0 = pd.DataFrame(class_0_prediction)\n",
        "  #df0 = get_sum_row_col(df0)\n",
        "  return prediction\n",
        "x = get_prediction()"
      ],
      "metadata": {
        "colab": {
          "base_uri": "https://localhost:8080/"
        },
        "id": "vI2el3g3B586",
        "outputId": "d20edebe-1b29-4e99-d1cd-871d1098df5e"
      },
      "execution_count": 340,
      "outputs": [
        {
          "output_type": "stream",
          "name": "stderr",
          "text": [
            "/usr/local/lib/python3.7/dist-packages/ipykernel_launcher.py:12: RuntimeWarning: divide by zero encountered in log2\n",
            "  if sys.path[0] == '':\n",
            "/usr/local/lib/python3.7/dist-packages/ipykernel_launcher.py:28: RuntimeWarning: overflow encountered in double_scalars\n",
            "/usr/local/lib/python3.7/dist-packages/ipykernel_launcher.py:27: RuntimeWarning: overflow encountered in multiply\n",
            "/usr/local/lib/python3.7/dist-packages/ipykernel_launcher.py:35: RuntimeWarning: overflow encountered in double_scalars\n",
            "/usr/local/lib/python3.7/dist-packages/ipykernel_launcher.py:34: RuntimeWarning: overflow encountered in multiply\n",
            "/usr/local/lib/python3.7/dist-packages/ipykernel_launcher.py:42: RuntimeWarning: overflow encountered in double_scalars\n",
            "/usr/local/lib/python3.7/dist-packages/ipykernel_launcher.py:41: RuntimeWarning: overflow encountered in multiply\n",
            "/usr/local/lib/python3.7/dist-packages/ipykernel_launcher.py:48: RuntimeWarning: overflow encountered in multiply\n",
            "/usr/local/lib/python3.7/dist-packages/ipykernel_launcher.py:49: RuntimeWarning: overflow encountered in double_scalars\n",
            "/usr/local/lib/python3.7/dist-packages/ipykernel_launcher.py:56: RuntimeWarning: overflow encountered in double_scalars\n",
            "/usr/local/lib/python3.7/dist-packages/ipykernel_launcher.py:55: RuntimeWarning: overflow encountered in multiply\n"
          ]
        }
      ]
    },
    {
      "cell_type": "code",
      "source": [
        "x,x.shape"
      ],
      "metadata": {
        "colab": {
          "base_uri": "https://localhost:8080/"
        },
        "id": "PDI2RnPGqQ2D",
        "outputId": "b52348a1-10b5-4910-b119-4c95264e61ba"
      },
      "execution_count": 341,
      "outputs": [
        {
          "output_type": "execute_result",
          "data": {
            "text/plain": [
              "(array([[0., 0., 0., 0., 4., 0., 0., 0., 2., 2., 0., 0., 0., 0., 0., 0.,\n",
              "         0., 0., 0., 0., 0., 0., 0., 0., 0., 0., 0., 0., 0., 2., 0., 0.,\n",
              "         0., 0., 3., 0., 0., 0., 2., 1., 2., 0., 0., 4., 0., 0., 0., 0.,\n",
              "         0., 0., 2., 0., 0., 0., 0., 0., 0., 0., 0., 4., 0., 0., 2., 0.,\n",
              "         0., 0., 0., 0., 2., 0., 0., 0., 0., 0., 0., 0., 0., 0., 4., 0.,\n",
              "         0., 0., 0., 2., 0., 0., 0., 0., 0., 0., 0., 0., 2., 0., 0., 2.,\n",
              "         1., 0., 0., 0., 0., 0., 0., 0., 0., 0., 0., 1., 1., 0., 2., 0.,\n",
              "         0., 0., 0., 0., 0., 0., 2., 0., 0., 3., 0., 0., 0., 0., 2., 0.,\n",
              "         0., 0., 0., 2., 0., 3., 0., 0., 1., 0., 0., 0., 0., 0., 0., 2.,\n",
              "         0., 0., 0., 2., 0., 0., 0., 0., 0., 2., 0., 0., 0., 2., 2., 0.,\n",
              "         0., 0., 2., 0., 0., 0., 0., 0., 2., 0., 0., 0., 0., 0., 0., 0.,\n",
              "         0., 0., 0., 0., 0., 0., 0., 0., 0.]]), (1, 185))"
            ]
          },
          "metadata": {},
          "execution_count": 341
        }
      ]
    },
    {
      "cell_type": "code",
      "source": [
        "#Scores without smoothing\n",
        "score = 0\n",
        "s0 = 0\n",
        "s1 = 0\n",
        "s2 = 0\n",
        "s3 = 0\n",
        "s4 = 0\n",
        "for i in range(0,185):\n",
        "  if x[0][i] == val_data.loc[i,\"class_label\"]:\n",
        "    score += 1\n",
        "for i in range(0,185):\n",
        "  if x[0][i] == 0:\n",
        "    s0 += 1\n",
        "  if x[0][i] == 1:\n",
        "    s1 += 1\n",
        "  if x[0][i] == 2:\n",
        "    s2 += 1\n",
        "  if x[0][i] == 3:\n",
        "    s3 += 1\n",
        "  if x[0][i] == 4:\n",
        "    s4 += 1\n",
        "accuracy =score/185\n",
        "print(\"%\"+str(accuracy))\n",
        "s0,s1,s2,s3,s4,accuracy\n",
        "#as classes for validation data distribution is 24,38,67,33,23\n",
        "#There are 8 differences out of 185"
      ],
      "metadata": {
        "colab": {
          "base_uri": "https://localhost:8080/"
        },
        "id": "N8xt4X5xpsRk",
        "outputId": "8f45c173-d0c2-402d-f9c8-f4798160f661"
      },
      "execution_count": 342,
      "outputs": [
        {
          "output_type": "stream",
          "name": "stdout",
          "text": [
            "%0.31351351351351353\n"
          ]
        },
        {
          "output_type": "execute_result",
          "data": {
            "text/plain": [
              "(151, 5, 22, 3, 4, 0.31351351351351353)"
            ]
          },
          "metadata": {},
          "execution_count": 342
        }
      ]
    },
    {
      "cell_type": "code",
      "source": [
        "x,x.shape"
      ],
      "metadata": {
        "colab": {
          "base_uri": "https://localhost:8080/"
        },
        "id": "Eae40C8vKqaa",
        "outputId": "62737186-43c4-49b5-8f4e-66f5fce3c2b6"
      },
      "execution_count": 328,
      "outputs": [
        {
          "output_type": "execute_result",
          "data": {
            "text/plain": [
              "(array([[4., 2., 1., 2., 4., 0., 0., 1., 2., 2., 1., 3., 3., 1., 0., 3.,\n",
              "         1., 2., 3., 3., 3., 1., 2., 1., 3., 2., 3., 4., 3., 2., 3., 2.,\n",
              "         1., 1., 3., 2., 2., 1., 2., 1., 2., 0., 1., 4., 3., 4., 4., 4.,\n",
              "         2., 2., 2., 4., 2., 4., 0., 1., 0., 1., 2., 4., 0., 0., 2., 0.,\n",
              "         3., 2., 1., 0., 2., 3., 0., 4., 0., 0., 3., 1., 2., 2., 4., 2.,\n",
              "         2., 2., 2., 2., 3., 4., 2., 2., 4., 0., 2., 0., 2., 4., 3., 2.,\n",
              "         1., 1., 0., 1., 2., 2., 2., 1., 2., 1., 1., 1., 1., 3., 2., 1.,\n",
              "         4., 0., 3., 2., 2., 3., 2., 2., 1., 3., 0., 1., 2., 3., 2., 3.,\n",
              "         1., 1., 4., 2., 1., 3., 4., 3., 1., 2., 2., 3., 2., 3., 2., 2.,\n",
              "         4., 3., 0., 2., 3., 4., 3., 3., 3., 2., 1., 2., 0., 2., 2., 2.,\n",
              "         0., 3., 2., 2., 3., 2., 2., 1., 2., 0., 3., 1., 1., 2., 0., 0.,\n",
              "         4., 2., 2., 3., 2., 0., 4., 2., 2.]]), (1, 185))"
            ]
          },
          "metadata": {},
          "execution_count": 328
        }
      ]
    },
    {
      "cell_type": "code",
      "source": [
        "#Scores with smoothing\n",
        "score = 0\n",
        "s0 = 0\n",
        "s1 = 0\n",
        "s2 = 0\n",
        "s3 = 0\n",
        "s4 = 0\n",
        "for i in range(0,185):\n",
        "  if x[0][i] == val_data.loc[i,\"class_label\"]:\n",
        "    score += 1\n",
        "for i in range(0,185):\n",
        "  if x[0][i] == 0:\n",
        "    s0 += 1\n",
        "  if x[0][i] == 1:\n",
        "    s1 += 1\n",
        "  if x[0][i] == 2:\n",
        "    s2 += 1\n",
        "  if x[0][i] == 3:\n",
        "    s3 += 1\n",
        "  if x[0][i] == 4:\n",
        "    s4 += 1\n",
        "accuracy =score/185\n",
        "print(\"%\"+str(accuracy))\n",
        "s0,s1,s2,s3,s4,accuracy\n",
        "#as classes for validation data distribution is 24,38,67,33,23\n",
        "#There are 8 differences out of 185"
      ],
      "metadata": {
        "colab": {
          "base_uri": "https://localhost:8080/"
        },
        "id": "6PfjZug8lmfG",
        "outputId": "246315b2-7ca2-4ef8-be0c-fa4f5eab4b9d"
      },
      "execution_count": 339,
      "outputs": [
        {
          "output_type": "stream",
          "name": "stdout",
          "text": [
            "%0.972972972972973\n"
          ]
        },
        {
          "output_type": "execute_result",
          "data": {
            "text/plain": [
              "(25, 35, 67, 36, 22, 0.972972972972973)"
            ]
          },
          "metadata": {},
          "execution_count": 339
        }
      ]
    },
    {
      "cell_type": "code",
      "source": [
        "#24,38,67,33,23"
      ],
      "metadata": {
        "id": "tSFL98aWmVUM"
      },
      "execution_count": null,
      "outputs": []
    },
    {
      "cell_type": "code",
      "source": [
        "# True values(for val_data) / getting priors with different method\n",
        "val_data[\"class_label\"]\n",
        "class_count_0 = 0\n",
        "class_count_1 = 0\n",
        "class_count_2 = 0\n",
        "class_count_3 = 0\n",
        "class_count_4 = 0\n",
        "max_row = val_data.shape[0]\n",
        "for i in range(0,max_row):\n",
        "  if val_data.loc[i,\"class_label\"] == 0:\n",
        "    class_count_0 += 1\n",
        "  elif val_data.loc[i,\"class_label\"] == 1:\n",
        "    class_count_1 += 1\n",
        "  elif val_data.loc[i,\"class_label\"] == 2:\n",
        "    class_count_2 += 1\n",
        "  elif val_data.loc[i,\"class_label\"] == 3:\n",
        "    class_count_3 += 1\n",
        "  elif val_data.loc[i,\"class_label\"] == 4:\n",
        "    class_count_4 += 1\n",
        "print(class_count_0)\n",
        "print(class_count_1)\n",
        "print(class_count_2)\n",
        "print(class_count_3)\n",
        "print(class_count_4)\n",
        "max_row\n",
        "prob_of_class_0 = class_count_0/max_row\n",
        "prob_of_class_1 = class_count_1/max_row\n",
        "prob_of_class_2 = class_count_2/max_row\n",
        "prob_of_class_3 = class_count_3/max_row\n",
        "prob_of_class_4 = class_count_4/max_row\n",
        "print(prob_of_class_0)\n",
        "print(prob_of_class_1)\n",
        "print(prob_of_class_2)\n",
        "print(prob_of_class_3)\n",
        "print(prob_of_class_4)\n",
        "get_prob_priors(val_data) #easy way"
      ],
      "metadata": {
        "colab": {
          "base_uri": "https://localhost:8080/"
        },
        "id": "J8kkHaTBkbgJ",
        "outputId": "801126c3-97e0-44ff-8eb3-6bfedaf8c6fd"
      },
      "execution_count": 175,
      "outputs": [
        {
          "output_type": "stream",
          "name": "stdout",
          "text": [
            "24\n",
            "38\n",
            "67\n",
            "33\n",
            "23\n",
            "0.12972972972972974\n",
            "0.20540540540540542\n",
            "0.3621621621621622\n",
            "0.1783783783783784\n",
            "0.12432432432432433\n"
          ]
        },
        {
          "output_type": "execute_result",
          "data": {
            "text/plain": [
              "[0.12972972972972974,\n",
              " 0.20540540540540542,\n",
              " 0.3621621621621622,\n",
              " 0.1783783783783784,\n",
              " 0.12432432432432433]"
            ]
          },
          "metadata": {},
          "execution_count": 175
        }
      ]
    }
  ],
  "metadata": {
    "colab": {
      "collapsed_sections": [],
      "provenance": []
    },
    "kernelspec": {
      "display_name": "Python 3",
      "name": "python3"
    },
    "language_info": {
      "name": "python"
    }
  },
  "nbformat": 4,
  "nbformat_minor": 0
}